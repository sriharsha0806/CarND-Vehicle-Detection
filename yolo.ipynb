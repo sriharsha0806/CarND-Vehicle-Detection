{
 "cells": [
  {
   "cell_type": "code",
   "execution_count": 1,
   "metadata": {
    "collapsed": false,
    "deletable": true,
    "editable": true
   },
   "outputs": [
    {
     "name": "stderr",
     "output_type": "stream",
     "text": [
      "Using TensorFlow backend.\n"
     ]
    }
   ],
   "source": [
    "import numpy as np\n",
    "import cv2\n",
    "import glob\n",
    "import matplotlib.pyplot as plt\n",
    "from matplotlib import image as mpimg\n",
    "from moviepy.editor import VideoFileClip\n",
    "from IPython.display import HTML\n",
    "%matplotlib inline\n",
    "\n",
    "import keras\n",
    "from keras.models import Sequential\n",
    "from keras.layers.convolutional import Convolution2D, MaxPooling2D\n",
    "from keras.layers.advanced_activations import LeakyReLU\n",
    "from keras.layers.core import Flatten, Dense, Activation, Reshape\n"
   ]
  },
  {
   "cell_type": "markdown",
   "metadata": {
    "deletable": true,
    "editable": true
   },
   "source": [
    "# https://github.com/sriharsha0806/self-driving-car/tree/master/vehicle-detection/darkflow/utils"
   ]
  },
  {
   "cell_type": "code",
   "execution_count": 2,
   "metadata": {
    "collapsed": false,
    "deletable": true,
    "editable": true
   },
   "outputs": [],
   "source": [
    "def load_weights(model, yolo_weight_file):\n",
    "    data = np.fromfile(yolo_weight_file, np.float32)\n",
    "    data = data[4:]\n",
    "    \n",
    "    index=0\n",
    "    for layer in model.layers:\n",
    "        shape=[w.shape for w in layer.get_weights()]\n",
    "        if shape != []:\n",
    "            kshape, bshape = shape\n",
    "            bia = data[index:index+np.prod(bshape)].reshape(bshape)\n",
    "            index += np.prod(bshape)\n",
    "            ker = data[index:index+np.prod(kshape)].reshape(kshape)\n",
    "            index += np.prod(kshape)\n",
    "            layer.set_weights([ker, bia])\n",
    "            \n",
    "# code based on:\n",
    "# YAD2K https://github.com/allanzelener/YAD2K\n",
    "# darkflow https://github.com/thtrieu/darkflow\n",
    "# Darknet.keras https://github.com/sunshineatnoon/Darknet.keras\n",
    "# https://github.com/xslittlegrass/CarND-Vehicle-Detection\n",
    "\n",
    "# Box util methods\n",
    "\n",
    "class Box:\n",
    "    def __init__(self):\n",
    "        self.x, self.y = float(), float()\n",
    "        self.w, self.h = float(), float()\n",
    "        self.c = float()\n",
    "        self.prob = float()\n",
    "        \n",
    "def overlap(x1, w1, x2, w2):\n",
    "    l1 = x1 - w1 / 2.\n",
    "    l2 = x2 - w2 / 2.\n",
    "    left = max(l1, l2)\n",
    "    r1 = x1 + w1 / 2.\n",
    "    r2 = x2 + w2 / 2.\n",
    "    right = min(r1, r2)\n",
    "    return right - left\n",
    "\n",
    "\n",
    "def box_intersection(a, b):\n",
    "    \"\"\"\n",
    "\n",
    "    :param a: Box 1\n",
    "    :param b: Box 2\n",
    "    :return: Intersection area of the 2 boxes\n",
    "    \"\"\"\n",
    "    w = overlap(a.x, a.w, b.x, b.w)\n",
    "    h = overlap(a.y, a.h, b.y, b.h)\n",
    "    if w < 0 or h < 0:\n",
    "        return 0\n",
    "    area = w * h\n",
    "    return area\n",
    "\n",
    "\n",
    "def box_union(a, b):\n",
    "    \"\"\"\n",
    "\n",
    "    :param a: Box 1\n",
    "    :param b: Box 2\n",
    "    :return: Area under the union of the 2 boxes\n",
    "    \"\"\"\n",
    "    i = box_intersection(a, b)\n",
    "    u = a.w * a.h + b.w * b.h - i\n",
    "    return u\n",
    "\n",
    "\n",
    "def box_iou(a, b):\n",
    "    \"\"\"\n",
    "\n",
    "    :param a: Box 1\n",
    "    :param b: Box 2\n",
    "    :return: Intersection over union, which is ratio of intersection area to union area of the 2 boxes\n",
    "    \"\"\"\n",
    "    return box_intersection(a, b) / box_union(a, b)\n",
    "\n",
    "\n",
    "\n",
    "def yolo_output_to_car_boxes(yolo_output, threshold=0.2, sqrt=1.8, C=20, B=2, S=7):\n",
    "\n",
    "    # Position for class 'car' in the VOC dataset classes\n",
    "    car_class_number = 6\n",
    "\n",
    "    boxes = []\n",
    "    SS = S*S  # number of grid cells\n",
    "    prob_size = SS*C  # class probabilities\n",
    "    conf_size = SS*B  # confidences for each grid cell\n",
    "\n",
    "    probabilities = yolo_output[0:prob_size]\n",
    "    confidence_scores = yolo_output[prob_size: (prob_size + conf_size)]\n",
    "    cords = yolo_output[(prob_size + conf_size):]\n",
    "\n",
    "    # Reshape the arrays so that its easier to loop over them\n",
    "    probabilities = probabilities.reshape((SS, C))\n",
    "    confs = confidence_scores.reshape((SS, B))\n",
    "    cords = cords.reshape((SS, B, 4))\n",
    "\n",
    "    for grid in range(SS):\n",
    "        for b in range(B):\n",
    "            bx = Box()\n",
    "\n",
    "            bx.c = confs[grid, b]\n",
    "\n",
    "            # bounding box xand y coordinates are offsets of a particular grid cell location,\n",
    "            # so they are also bounded between 0 and 1.\n",
    "            # convert them absolute locations relative to the image size\n",
    "            bx.x = (cords[grid, b, 0] + grid % S) / S\n",
    "            bx.y = (cords[grid, b, 1] + grid // S) / S\n",
    "\n",
    "\n",
    "            bx.w = cords[grid, b, 2] ** sqrt\n",
    "            bx.h = cords[grid, b, 3] ** sqrt\n",
    "\n",
    "            # multiply confidence scores with class probabilities to get class sepcific confidence scores\n",
    "            p = probabilities[grid, :] * bx.c\n",
    "\n",
    "            # Check if the confidence score for class 'car' is greater than the threshold\n",
    "            if p[car_class_number] >= threshold:\n",
    "                bx.prob = p[car_class_number]\n",
    "                boxes.append(bx)\n",
    "\n",
    "    # combine boxes that are overlap\n",
    "\n",
    "    # sort the boxes by confidence score, in the descending order\n",
    "    boxes.sort(key=lambda b: b.prob, reverse=True)\n",
    "\n",
    "\n",
    "    for i in range(len(boxes)):\n",
    "        boxi = boxes[i]\n",
    "        if boxi.prob == 0:\n",
    "            continue\n",
    "\n",
    "        for j in range(i + 1, len(boxes)):\n",
    "            boxj = boxes[j]\n",
    "\n",
    "            # If boxes have more than 40% overlap then retain the box with the highest confidence score\n",
    "            if box_iou(boxi, boxj) >= 0.4:\n",
    "                boxes[j].prob = 0\n",
    "\n",
    "    boxes = [b for b in boxes if b.prob > 0]\n",
    "\n",
    "    return boxes\n",
    "\n",
    "\n",
    "def draw_boxes(boxes,im, crop_dim):\n",
    "    imgcv1 = im.copy()\n",
    "    [xmin, xmax] = crop_dim[0]\n",
    "    [ymin, ymax] = crop_dim[1]\n",
    "    \n",
    "    height, width, _ = imgcv1.shape\n",
    "    for b in boxes:\n",
    "        w = xmax - xmin\n",
    "        h = ymax - ymin\n",
    "\n",
    "        left  = int ((b.x - b.w/2.) * w) + xmin\n",
    "        right = int ((b.x + b.w/2.) * w) + xmin\n",
    "        top   = int ((b.y - b.h/2.) * h) + ymin\n",
    "        bot   = int ((b.y + b.h/2.) * h) + ymin\n",
    "\n",
    "        if left  < 0:\n",
    "            left = 0\n",
    "        if right > width - 1:\n",
    "            right = width - 1\n",
    "        if top < 0:\n",
    "            top = 0\n",
    "        if bot>height - 1: \n",
    "            bot = height - 1\n",
    "        \n",
    "        thick = 5 #int((height + width // 150))\n",
    "        \n",
    "        cv2.rectangle(imgcv1, (left, top), (right, bot), (255,0,0), thick)\n",
    "\n",
    "    return imgcv1"
   ]
  },
  {
   "cell_type": "code",
   "execution_count": 3,
   "metadata": {
    "collapsed": true,
    "deletable": true,
    "editable": true
   },
   "outputs": [],
   "source": [
    "# code based on:\n",
    "#YAD2K https://github.com/allanzelener/YAD2K\n",
    "#darkflow https://github.com/thtrieu/darkflow\n",
    "#Darknet.keras https://github.com/sunshineatnoon/Darknet.keras"
   ]
  },
  {
   "cell_type": "code",
   "execution_count": 3,
   "metadata": {
    "collapsed": true,
    "deletable": true,
    "editable": true
   },
   "outputs": [],
   "source": [
    "keras.backend.set_image_dim_ordering('th')\n"
   ]
  },
  {
   "cell_type": "code",
   "execution_count": 4,
   "metadata": {
    "collapsed": true,
    "deletable": true,
    "editable": true
   },
   "outputs": [],
   "source": [
    "def yolo():\n",
    "    model = Sequential()\n",
    "    \n",
    "    # Layer 1 Convolutional layer input shape 16X3X3, Maxpooling 2X2\n",
    "    model.add(Convolution2D(16,3,3,input_shape=(3,448,448), border_mode='same', subsample=(1,1)))\n",
    "    model.add(LeakyReLU(alpha=0.1))\n",
    "    model.add(MaxPooling2D(pool_size=(2,2)))\n",
    "    \n",
    "    # Layer 2 Convolutional layer input shape 32X3X3, Maxpooling 2X2\n",
    "    model.add(Convolution2D(32,3,3,border_mode='same'))\n",
    "    model.add(LeakyReLU(alpha=0.1))\n",
    "    model.add(MaxPooling2D(pool_size=(2,2), border_mode='valid'))\n",
    "    \n",
    "    # Layer 3 Convolutional layer input shape 64X3X3, Maxpooling 2X2 \n",
    "    model.add(Convolution2D(64,3,3,border_mode='same'))\n",
    "    model.add(LeakyReLU(alpha=0.1))\n",
    "    model.add(MaxPooling2D(pool_size=(2,2), border_mode='valid'))\n",
    "    \n",
    "    # Layer 4 Convolutional layer input shape 128X3X3, Maxpooling 2X2 \n",
    "    model.add(Convolution2D(128,3,3,border_mode='same'))\n",
    "    model.add(LeakyReLU(alpha=0.1))\n",
    "    model.add(MaxPooling2D(pool_size=(2,2), border_mode='valid'))\n",
    "    \n",
    "    # Layer 5 Convolutional layer input shape 256X3X3, Maxpooling 2X2 \n",
    "    model.add(Convolution2D(256,3,3,border_mode='same'))\n",
    "    model.add(LeakyReLU(alpha=0.1))\n",
    "    model.add(MaxPooling2D(pool_size=(2,2), border_mode='valid'))\n",
    "    \n",
    "    # Layer 6 Convolutional layer input shape 512X3X3, Maxpooling 2X2 \n",
    "    model.add(Convolution2D(512,3,3,border_mode='same'))\n",
    "    model.add(LeakyReLU(alpha=0.1))\n",
    "    model.add(MaxPooling2D(pool_size=(2,2), border_mode='valid'))\n",
    "    \n",
    "    # Layer 7 Convolutional layer input shape 1024X3X3\n",
    "    model.add(Convolution2D(1024,3,3,border_mode='same'))\n",
    "    model.add(LeakyReLU(alpha=0.1))\n",
    "    \n",
    "    # Layer 8 Convolutional layer input_shape 1024X3X3\n",
    "    model.add(Convolution2D(1024,3,3,border_mode='same'))\n",
    "    model.add(LeakyReLU(alpha=0.1))\n",
    "\n",
    "    # Layer 9 Convolutional layer input_shape 1024X3X3\n",
    "    model.add(Convolution2D(1024,3,3,border_mode='same'))\n",
    "    model.add(LeakyReLU(alpha=0.1))\n",
    "    model.add(Flatten())\n",
    "  \n",
    "    # Layer 10\n",
    "    model.add(Dense(256))\n",
    "    \n",
    "    # Layer 11\n",
    "    model.add(Dense(4096))\n",
    "    model.add(LeakyReLU(alpha=0.1))\n",
    "    \n",
    "    # Layer 12\n",
    "    model.add(Dense(1470))\n",
    "    return model"
   ]
  },
  {
   "cell_type": "code",
   "execution_count": 5,
   "metadata": {
    "collapsed": false,
    "deletable": true,
    "editable": true
   },
   "outputs": [
    {
     "name": "stdout",
     "output_type": "stream",
     "text": [
      "____________________________________________________________________________________________________\n",
      "Layer (type)                     Output Shape          Param #     Connected to                     \n",
      "====================================================================================================\n",
      "convolution2d_1 (Convolution2D)  (None, 16, 448, 448)  448         convolution2d_input_1[0][0]      \n",
      "____________________________________________________________________________________________________\n",
      "leakyrelu_1 (LeakyReLU)          (None, 16, 448, 448)  0           convolution2d_1[0][0]            \n",
      "____________________________________________________________________________________________________\n",
      "maxpooling2d_1 (MaxPooling2D)    (None, 16, 224, 224)  0           leakyrelu_1[0][0]                \n",
      "____________________________________________________________________________________________________\n",
      "convolution2d_2 (Convolution2D)  (None, 32, 224, 224)  4640        maxpooling2d_1[0][0]             \n",
      "____________________________________________________________________________________________________\n",
      "leakyrelu_2 (LeakyReLU)          (None, 32, 224, 224)  0           convolution2d_2[0][0]            \n",
      "____________________________________________________________________________________________________\n",
      "maxpooling2d_2 (MaxPooling2D)    (None, 32, 112, 112)  0           leakyrelu_2[0][0]                \n",
      "____________________________________________________________________________________________________\n",
      "convolution2d_3 (Convolution2D)  (None, 64, 112, 112)  18496       maxpooling2d_2[0][0]             \n",
      "____________________________________________________________________________________________________\n",
      "leakyrelu_3 (LeakyReLU)          (None, 64, 112, 112)  0           convolution2d_3[0][0]            \n",
      "____________________________________________________________________________________________________\n",
      "maxpooling2d_3 (MaxPooling2D)    (None, 64, 56, 56)    0           leakyrelu_3[0][0]                \n",
      "____________________________________________________________________________________________________\n",
      "convolution2d_4 (Convolution2D)  (None, 128, 56, 56)   73856       maxpooling2d_3[0][0]             \n",
      "____________________________________________________________________________________________________\n",
      "leakyrelu_4 (LeakyReLU)          (None, 128, 56, 56)   0           convolution2d_4[0][0]            \n",
      "____________________________________________________________________________________________________\n",
      "maxpooling2d_4 (MaxPooling2D)    (None, 128, 28, 28)   0           leakyrelu_4[0][0]                \n",
      "____________________________________________________________________________________________________\n",
      "convolution2d_5 (Convolution2D)  (None, 256, 28, 28)   295168      maxpooling2d_4[0][0]             \n",
      "____________________________________________________________________________________________________\n",
      "leakyrelu_5 (LeakyReLU)          (None, 256, 28, 28)   0           convolution2d_5[0][0]            \n",
      "____________________________________________________________________________________________________\n",
      "maxpooling2d_5 (MaxPooling2D)    (None, 256, 14, 14)   0           leakyrelu_5[0][0]                \n",
      "____________________________________________________________________________________________________\n",
      "convolution2d_6 (Convolution2D)  (None, 512, 14, 14)   1180160     maxpooling2d_5[0][0]             \n",
      "____________________________________________________________________________________________________\n",
      "leakyrelu_6 (LeakyReLU)          (None, 512, 14, 14)   0           convolution2d_6[0][0]            \n",
      "____________________________________________________________________________________________________\n",
      "maxpooling2d_6 (MaxPooling2D)    (None, 512, 7, 7)     0           leakyrelu_6[0][0]                \n",
      "____________________________________________________________________________________________________\n",
      "convolution2d_7 (Convolution2D)  (None, 1024, 7, 7)    4719616     maxpooling2d_6[0][0]             \n",
      "____________________________________________________________________________________________________\n",
      "leakyrelu_7 (LeakyReLU)          (None, 1024, 7, 7)    0           convolution2d_7[0][0]            \n",
      "____________________________________________________________________________________________________\n",
      "convolution2d_8 (Convolution2D)  (None, 1024, 7, 7)    9438208     leakyrelu_7[0][0]                \n",
      "____________________________________________________________________________________________________\n",
      "leakyrelu_8 (LeakyReLU)          (None, 1024, 7, 7)    0           convolution2d_8[0][0]            \n",
      "____________________________________________________________________________________________________\n",
      "convolution2d_9 (Convolution2D)  (None, 1024, 7, 7)    9438208     leakyrelu_8[0][0]                \n",
      "____________________________________________________________________________________________________\n",
      "leakyrelu_9 (LeakyReLU)          (None, 1024, 7, 7)    0           convolution2d_9[0][0]            \n",
      "____________________________________________________________________________________________________\n",
      "flatten_1 (Flatten)              (None, 50176)         0           leakyrelu_9[0][0]                \n",
      "____________________________________________________________________________________________________\n",
      "dense_1 (Dense)                  (None, 256)           12845312    flatten_1[0][0]                  \n",
      "____________________________________________________________________________________________________\n",
      "dense_2 (Dense)                  (None, 4096)          1052672     dense_1[0][0]                    \n",
      "____________________________________________________________________________________________________\n",
      "leakyrelu_10 (LeakyReLU)         (None, 4096)          0           dense_2[0][0]                    \n",
      "____________________________________________________________________________________________________\n",
      "dense_3 (Dense)                  (None, 1470)          6022590     leakyrelu_10[0][0]               \n",
      "====================================================================================================\n",
      "Total params: 45,089,374\n",
      "Trainable params: 45,089,374\n",
      "Non-trainable params: 0\n",
      "____________________________________________________________________________________________________\n"
     ]
    }
   ],
   "source": [
    "model = yolo()\n",
    "model.summary()"
   ]
  },
  {
   "cell_type": "markdown",
   "metadata": {
    "deletable": true,
    "editable": true
   },
   "source": [
    "# load weight from pretrained weights for yolo"
   ]
  },
  {
   "cell_type": "code",
   "execution_count": null,
   "metadata": {
    "collapsed": false,
    "deletable": true,
    "editable": true
   },
   "outputs": [],
   "source": [
    "load_weights(model,'./yolo.weights')"
   ]
  },
  {
   "cell_type": "markdown",
   "metadata": {
    "deletable": true,
    "editable": true
   },
   "source": [
    "# apply the model to test image"
   ]
  },
  {
   "cell_type": "code",
   "execution_count": 11,
   "metadata": {
    "collapsed": true,
    "deletable": true,
    "editable": true
   },
   "outputs": [],
   "source": [
    "def crop_and_resize(image):\n",
    "    cropped = image[300:650, 500:,:]\n",
    "    return cv2.resize(cropped,(448,448))\n",
    "\n",
    "def normalize(image):\n",
    "    normalized = 2.0*image/255.0-1\n",
    "    return normalized\n",
    "\n",
    "def preprocess(image):\n",
    "    cropped = crop_and_resize(image)\n",
    "    normalized = normalize(cropped)\n",
    "    transposed = np.transpose(normalized, (2,0,1))\n",
    "    return transposed"
   ]
  },
  {
   "cell_type": "code",
   "execution_count": 15,
   "metadata": {
    "collapsed": false,
    "deletable": true,
    "editable": true
   },
   "outputs": [
    {
     "name": "stdout",
     "output_type": "stream",
     "text": [
      "(1, 1470)\n"
     ]
    }
   ],
   "source": [
    "test_image = mpimg.imread('test_images/test1.jpg')\n",
    "pre_processed = preprocess(test_image)\n",
    "batch = np.expand_dims(pre_processed, axis=0)\n",
    "batch_output = model.predict(batch)\n",
    "print(batch_output.shape)"
   ]
  },
  {
   "cell_type": "code",
   "execution_count": 21,
   "metadata": {
    "collapsed": false,
    "deletable": true,
    "editable": true
   },
   "outputs": [
    {
     "ename": "TypeError",
     "evalue": "unorderable types: list() >= float()",
     "output_type": "error",
     "traceback": [
      "\u001b[0;31m---------------------------------------------------------------------------\u001b[0m",
      "\u001b[0;31mTypeError\u001b[0m                                 Traceback (most recent call last)",
      "\u001b[0;32m<ipython-input-21-808a27ba37e1>\u001b[0m in \u001b[0;36m<module>\u001b[0;34m()\u001b[0m\n\u001b[0;32m----> 1\u001b[0;31m \u001b[0mboxes\u001b[0m \u001b[0;34m=\u001b[0m \u001b[0myolo_out_to_car_boxes\u001b[0m\u001b[0;34m(\u001b[0m\u001b[0mbatch_output\u001b[0m\u001b[0;34m[\u001b[0m\u001b[0;36m0\u001b[0m\u001b[0;34m]\u001b[0m\u001b[0;34m,\u001b[0m \u001b[0mthreshold\u001b[0m\u001b[0;34m=\u001b[0m\u001b[0;36m0.25\u001b[0m\u001b[0;34m)\u001b[0m\u001b[0;34m\u001b[0m\u001b[0m\n\u001b[0m\u001b[1;32m      2\u001b[0m \u001b[0mfinal\u001b[0m \u001b[0;34m=\u001b[0m \u001b[0mdraw_boxes\u001b[0m\u001b[0;34m(\u001b[0m\u001b[0mboxes\u001b[0m\u001b[0;34m,\u001b[0m \u001b[0mtest_image\u001b[0m\u001b[0;34m,\u001b[0m \u001b[0;34m(\u001b[0m\u001b[0;34m(\u001b[0m\u001b[0;36m500\u001b[0m\u001b[0;34m,\u001b[0m \u001b[0;36m1280\u001b[0m\u001b[0;34m)\u001b[0m\u001b[0;34m,\u001b[0m\u001b[0;34m(\u001b[0m\u001b[0;36m300\u001b[0m\u001b[0;34m,\u001b[0m \u001b[0;36m650\u001b[0m\u001b[0;34m)\u001b[0m\u001b[0;34m)\u001b[0m\u001b[0;34m)\u001b[0m\u001b[0;34m\u001b[0m\u001b[0m\n\u001b[1;32m      3\u001b[0m \u001b[0;34m\u001b[0m\u001b[0m\n\u001b[1;32m      4\u001b[0m \u001b[0mplt\u001b[0m\u001b[0;34m.\u001b[0m\u001b[0msubplot\u001b[0m\u001b[0;34m(\u001b[0m\u001b[0;36m1\u001b[0m\u001b[0;34m,\u001b[0m\u001b[0;36m2\u001b[0m\u001b[0;34m,\u001b[0m\u001b[0;36m1\u001b[0m\u001b[0;34m)\u001b[0m\u001b[0;34m\u001b[0m\u001b[0m\n\u001b[1;32m      5\u001b[0m \u001b[0mplt\u001b[0m\u001b[0;34m.\u001b[0m\u001b[0mimshow\u001b[0m\u001b[0;34m(\u001b[0m\u001b[0mtest_image\u001b[0m\u001b[0;34m)\u001b[0m\u001b[0;34m\u001b[0m\u001b[0m\n",
      "\u001b[0;32m<ipython-input-18-3c5bf0c90577>\u001b[0m in \u001b[0;36myolo_out_to_car_boxes\u001b[0;34m(net_out, threshold, sqrt, C, B, S)\u001b[0m\n\u001b[1;32m     83\u001b[0m             \u001b[0mp\u001b[0m \u001b[0;34m=\u001b[0m \u001b[0mprobs\u001b[0m\u001b[0;34m[\u001b[0m\u001b[0mgrid\u001b[0m\u001b[0;34m,\u001b[0m\u001b[0;34m:\u001b[0m\u001b[0;34m]\u001b[0m\u001b[0;34m*\u001b[0m\u001b[0mbx\u001b[0m\u001b[0;34m.\u001b[0m\u001b[0mc\u001b[0m\u001b[0;34m\u001b[0m\u001b[0m\n\u001b[1;32m     84\u001b[0m \u001b[0;34m\u001b[0m\u001b[0m\n\u001b[0;32m---> 85\u001b[0;31m             \u001b[0;32mif\u001b[0m \u001b[0;34m[\u001b[0m\u001b[0mclass_num\u001b[0m\u001b[0;34m]\u001b[0m \u001b[0;34m>=\u001b[0m \u001b[0mthreshold\u001b[0m\u001b[0;34m:\u001b[0m\u001b[0;34m\u001b[0m\u001b[0m\n\u001b[0m\u001b[1;32m     86\u001b[0m                 \u001b[0mbx\u001b[0m\u001b[0;34m.\u001b[0m\u001b[0mprob\u001b[0m \u001b[0;34m=\u001b[0m \u001b[0mp\u001b[0m\u001b[0;34m[\u001b[0m\u001b[0mclass_num\u001b[0m\u001b[0;34m]\u001b[0m\u001b[0;34m\u001b[0m\u001b[0m\n\u001b[1;32m     87\u001b[0m                 \u001b[0mboxes\u001b[0m\u001b[0;34m.\u001b[0m\u001b[0mappend\u001b[0m\u001b[0;34m(\u001b[0m\u001b[0mbx\u001b[0m\u001b[0;34m)\u001b[0m\u001b[0;34m\u001b[0m\u001b[0m\n",
      "\u001b[0;31mTypeError\u001b[0m: unorderable types: list() >= float()"
     ]
    }
   ],
   "source": [
    "boxes = yolo_out_to_car_boxes(batch_output[0], threshold=0.25)\n",
    "final = draw_boxes(boxes, test_image, ((500, 1280),(300, 650)))\n",
    "\n",
    "plt.subplot(1,2,1)\n",
    "plt.imshow(test_image)\n",
    "plt.axis('off')\n",
    "plt.title('Original Image')\n",
    "plt.subplot(1,2,2)\n",
    "plt.imshow(final)\n",
    "plt.axis('off')\n",
    "plt.title('Image with boxes')"
   ]
  },
  {
   "cell_type": "code",
   "execution_count": null,
   "metadata": {
    "collapsed": true,
    "deletable": true,
    "editable": true
   },
   "outputs": [],
   "source": []
  }
 ],
 "metadata": {
  "kernelspec": {
   "display_name": "Python 3",
   "language": "python",
   "name": "python3"
  },
  "language_info": {
   "codemirror_mode": {
    "name": "ipython",
    "version": 3
   },
   "file_extension": ".py",
   "mimetype": "text/x-python",
   "name": "python",
   "nbconvert_exporter": "python",
   "pygments_lexer": "ipython3",
   "version": "3.5.2"
  },
  "widgets": {
   "state": {},
   "version": "1.1.2"
  }
 },
 "nbformat": 4,
 "nbformat_minor": 2
}
